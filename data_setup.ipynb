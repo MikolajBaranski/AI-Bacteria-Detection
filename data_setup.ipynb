{
 "cells": [
  {
   "cell_type": "code",
   "execution_count": null,
   "id": "9b91855a",
   "metadata": {},
   "outputs": [],
   "source": [
    "import zipfile\n",
    "\n",
    "with zipfile.ZipFile('agarvision-task-1-classification.zip', 'r') as zip_ref:\n",
    "    zip_ref.extractall('data/train_data')"
   ]
  },
  {
   "cell_type": "code",
   "execution_count": null,
   "id": "6bfc38dd",
   "metadata": {},
   "outputs": [],
   "source": [
    "import os\n",
    "import random\n",
    "\n",
    "# Define the directory containing the files\n",
    "directory = \"data/train_data\"\n",
    "\n",
    "# Get a list of all files in the directory\n",
    "files = os.listdir(directory)\n",
    "\n",
    "# Extract unique file names without extensions\n",
    "unique_filenames = {os.path.splitext(file)[0] for file in files}\n",
    "\n",
    "# Split filenames into train and validation sets\n",
    "num_files = len(unique_filenames)\n",
    "num_train = int(0.8 * num_files)\n",
    "train_filenames = random.sample(unique_filenames, num_train)\n",
    "validation_filenames = unique_filenames - set(train_filenames)\n",
    "\n",
    "# Write train and validation filenames to text files\n",
    "with open(\"data/train.txt\", \"w\") as train_file:\n",
    "    for filename in train_filenames:\n",
    "        train_file.write(filename + \"\\n\")\n",
    "\n",
    "with open(\"data/validation.txt\", \"w\") as validation_file:\n",
    "    for filename in validation_filenames:\n",
    "        validation_file.write(filename + \"\\n\")\n"
   ]
  }
 ],
 "metadata": {
  "kernelspec": {
   "display_name": "Python [conda env:my_env] *",
   "language": "python",
   "name": "conda-env-my_env-py"
  },
  "language_info": {
   "codemirror_mode": {
    "name": "ipython",
    "version": 3
   },
   "file_extension": ".py",
   "mimetype": "text/x-python",
   "name": "python",
   "nbconvert_exporter": "python",
   "pygments_lexer": "ipython3",
   "version": "3.10.13"
  }
 },
 "nbformat": 4,
 "nbformat_minor": 5
}
