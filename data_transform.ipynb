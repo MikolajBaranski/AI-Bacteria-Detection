{
 "cells": [
  {
   "cell_type": "code",
   "execution_count": null,
   "metadata": {
    "id": "AQorWD-qi7PO"
   },
   "outputs": [],
   "source": [
    "# Function imports\n",
    "from utils.preprocessing import convert_to_yolo_format, get_image_size\n",
    "import os\n",
    "import shutil\n",
    "import tqdm \n",
    "\n",
    "# Setting core variables\n",
    "# Folder building\n",
    "root_data_folder = \"data/train_data\"\n",
    "output_folder = \"data/data_yolo\"\n",
    "\n",
    "# Data split source\n",
    "train_ids_path = 'data/train.txt'\n",
    "val_ids_path = 'data/validation.txt'"
   ]
  },
  {
   "cell_type": "code",
   "execution_count": null,
   "metadata": {},
   "outputs": [],
   "source": [
    "# Define folder structure\n",
    "main_folder_path = os.path.join(root_data_folder, output_folder)\n",
    "\n",
    "# Define subfolder paths\n",
    "label_folder_path = os.path.join(main_folder_path, \"labels\")\n",
    "labeltrain_folder_path = os.path.join(label_folder_path, \"train\")\n",
    "labelval_folder_path = os.path.join(label_folder_path, \"val\")\n",
    "\n",
    "image_folder_path = os.path.join(main_folder_path, \"images\")\n",
    "imagetrain_folder_path = os.path.join(image_folder_path, \"train\")\n",
    "imageval_folder_path = os.path.join(image_folder_path, \"val\")\n",
    "\n",
    "# List of all folder paths to create\n",
    "folders_to_create = [\n",
    "    main_folder_path,\n",
    "    label_folder_path,\n",
    "    labeltrain_folder_path,\n",
    "    labelval_folder_path,\n",
    "    image_folder_path,\n",
    "    imagetrain_folder_path,\n",
    "    imageval_folder_path,\n",
    "]\n",
    "\n",
    "# Create folders only if they don't exist yet\n",
    "for folder in folders_to_create:\n",
    "    os.makedirs(folder, exist_ok=True)"
   ]
  },
  {
   "cell_type": "code",
   "execution_count": null,
   "metadata": {},
   "outputs": [],
   "source": [
    "# Load the train, val lists of ids\n",
    "\n",
    "# Train\n",
    "with open(train_ids_path, 'r') as file:\n",
    "    train_ids = [line.strip() for line in file]\n",
    "\n",
    "# Val\n",
    "with open(val_ids_path, 'r') as file:\n",
    "    val_ids = [line.strip() for line in file]\n"
   ]
  },
  {
   "cell_type": "code",
   "execution_count": null,
   "metadata": {},
   "outputs": [],
   "source": [
    "# Function for reorganizing the data into yolo format with yolo applicable labels\n",
    "\n",
    "def data_yolo_reoorganize(directories, label_folder_path, image_folder_path, root_data_folder, option_image=True):\n",
    "    # Initialize tqdm with the number of directories\n",
    "    progress_bar = tqdm.tqdm(total=len(directories), desc='Processing Folders')\n",
    "\n",
    "    # Iterate through folders to reformat data into YOLO format\n",
    "    for file_id in directories:\n",
    "        \n",
    "        # Get json and image paths\n",
    "        json_path = os.path.join(root_data_folder , f\"{file_id}.json\")\n",
    "        image_path = os.path.join(root_data_folder , f\"{file_id}.jpg\")\n",
    "        \n",
    "        if json_path is not None and image_path is not None:\n",
    "            im_width, im_height = get_image_size(image_path)\n",
    "            # Call convert_to_yolo_format function with the JSON and image paths\n",
    "            yolo_lines = convert_to_yolo_format(json_path,im_width, im_height)\n",
    "        \n",
    "            # Write to label file with the folder name\n",
    "            label_filename = f\"{file_id}.txt\"\n",
    "            label_file_path = os.path.join(label_folder_path, label_filename)\n",
    "            with open(label_file_path, \"w\") as f:\n",
    "                f.writelines(yolo_lines)\n",
    "\n",
    "            if option_image == True:\n",
    "                # Copy the image to the image folder\n",
    "                image_filename = f\"{file_id}.jpg\"  # Assuming the image is always saved as a JPG\n",
    "                image_output_file_path = os.path.join(image_folder_path, image_filename)\n",
    "                shutil.copy(image_path, image_output_file_path)\n",
    "        \n",
    "        # Update progress bar\n",
    "        progress_bar.update(1)\n",
    "\n",
    "    # Close progress bar\n",
    "    progress_bar.close()"
   ]
  },
  {
   "cell_type": "code",
   "execution_count": null,
   "metadata": {},
   "outputs": [],
   "source": [
    "# Run the data reoorganizaiton and relabelling\n",
    "data_yolo_reoorganize(train_ids, labeltrain_folder_path, imagetrain_folder_path, root_data_folder)\n",
    "data_yolo_reoorganize(val_ids, labelval_folder_path, imageval_folder_path, root_data_folder)"
   ]
  }
 ],
 "metadata": {
  "colab": {
   "authorship_tag": "ABX9TyNkhQ0CrrffYMbV5A+sl0Z3",
   "provenance": []
  },
  "kernelspec": {
   "display_name": "Python [conda env:my_env] *",
   "language": "python",
   "name": "conda-env-my_env-py"
  },
  "language_info": {
   "codemirror_mode": {
    "name": "ipython",
    "version": 3
   },
   "file_extension": ".py",
   "mimetype": "text/x-python",
   "name": "python",
   "nbconvert_exporter": "python",
   "pygments_lexer": "ipython3",
   "version": "3.10.13"
  }
 },
 "nbformat": 4,
 "nbformat_minor": 1
}
